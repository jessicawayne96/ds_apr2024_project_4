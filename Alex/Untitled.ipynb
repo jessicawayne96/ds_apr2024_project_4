{
 "cells": [
  {
   "cell_type": "code",
   "execution_count": null,
   "id": "38c1a214-6927-4cf8-b921-129d7f23aac7",
   "metadata": {},
   "outputs": [],
   "source": [
    "import pandas as pd\n",
    "import pickle\n",
    "import numpy as np"
   ]
  },
  {
   "cell_type": "code",
   "execution_count": null,
   "id": "eac3b052-8691-4c10-8f1a-5f9c43c20157",
   "metadata": {},
   "outputs": [],
   "source": [
    "def makePredictions(character,strength,speed,intelligence,specialAbilities,weaknesses):\n",
    "    \n",
    "    \n",
    "    \n",
    "    embarked_c = 0\n",
    "    embarked_q = 0\n",
    "    embarked_s = 0\n",
    "    \n",
    "   \n",
    "    \n",
    "    # parse embarked\n",
    "    if (embarked == \"C\"):\n",
    "        embarked_c = 1\n",
    "    elif (embarked == \"Q\"):\n",
    "        embarked_q = 1\n",
    "    elif (embarked == \"S\"):\n",
    "        embarked_s = 1\n",
    "    else:\n",
    "        pass\n",
    "    \n",
    "    df = pd.DataFrame()\n",
    "    df[\"Sex\"] = [sex_flag]\n",
    "    df[\"Age\"] = [age]\n",
    "    df[\"Fare\"] = [fare]\n",
    "    df[\"Has_Cabin\"] = [has_cabin]\n",
    "    df[\"Family_Size\"] = [familySize]\n",
    "    df[\"Embarked_C\"] = embarked_c\n",
    "    df[\"Embarked_Q\"] = embarked_q\n",
    "    df[\"Embarked_S\"] = embarked_s\n",
    "    \n",
    "    # Scaler\n",
    "    scaler = pickle.load(open(\"titanic_scaler.h5\", 'rb'))\n",
    "    \n",
    "    scaled_data = scaler.transform(df.loc[:, [\"Age\", \"Fare\", \"Family_Size\"]])\n",
    "    df_scaled = pd.DataFrame(scaled_data, columns=[\"Age\", \"Fare\", \"Family_Size\"])\n",
    "    \n",
    "    # replace\n",
    "    df[\"Age\"] = df_scaled.Age\n",
    "    df[\"Fare\"] = df_scaled.Fare\n",
    "    df[\"Family_Size\"] = df_scaled.Family_Size\n",
    "    \n",
    "    # model\n",
    "    model = pickle.load(open(\"titanic_model.h5\", 'rb'))\n",
    "    \n",
    "    # columns in order\n",
    "    df = df.loc[:, ['Age', 'Fare', 'Family_Size', 'Sex', 'Has_Cabin', 'Pclass_1',\n",
    "           'Pclass_2', 'Pclass_3', 'Embarked_C', 'Embarked_Q', 'Embarked_S']]\n",
    "    \n",
    "    preds = model.predict_proba(df)\n",
    "    return(preds[0][1])"
   ]
  },
  {
   "cell_type": "code",
   "execution_count": null,
   "id": "d2331326-1ae0-49e8-8d20-98e22fad381b",
   "metadata": {},
   "outputs": [],
   "source": [
    "character = \"Batman\"\n",
    "strength = 6\n",
    "speed = 3\n",
    "intelligence = 4\n",
    "specialAbilities = \"Telekinesis\"\n",
    "weaknesses = \"Kryptonite\"\n",
    "\n",
    "\n",
    "makePredictions(character,strength,speed,intelligence,specialAbilities,weaknesses)"
   ]
  },
  {
   "cell_type": "code",
   "execution_count": null,
   "id": "754f777c-7c47-4ebb-b8bb-a1fe5f65aaa7",
   "metadata": {},
   "outputs": [],
   "source": []
  },
  {
   "cell_type": "code",
   "execution_count": null,
   "id": "dae0dede-4c3d-46cb-aa83-34f6be58adca",
   "metadata": {},
   "outputs": [],
   "source": []
  },
  {
   "cell_type": "code",
   "execution_count": null,
   "id": "a3c7a1fe-c9c8-4cce-a448-ad55bf0cf0f9",
   "metadata": {},
   "outputs": [],
   "source": []
  },
  {
   "cell_type": "code",
   "execution_count": null,
   "id": "0359eb49-816e-4981-bf9e-3560c7cf8988",
   "metadata": {},
   "outputs": [],
   "source": []
  }
 ],
 "metadata": {
  "kernelspec": {
   "display_name": "Python 3 (ipykernel)",
   "language": "python",
   "name": "python3"
  },
  "language_info": {
   "codemirror_mode": {
    "name": "ipython",
    "version": 3
   },
   "file_extension": ".py",
   "mimetype": "text/x-python",
   "name": "python",
   "nbconvert_exporter": "python",
   "pygments_lexer": "ipython3",
   "version": "3.10.13"
  }
 },
 "nbformat": 4,
 "nbformat_minor": 5
}
