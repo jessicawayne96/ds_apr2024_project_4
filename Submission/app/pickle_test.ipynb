{
 "cells": [
  {
   "cell_type": "code",
   "execution_count": 2,
   "id": "f50fc3b6-388f-4504-96d3-2df1ca9b9ebb",
   "metadata": {},
   "outputs": [
    {
     "name": "stdout",
     "output_type": "stream",
     "text": [
      "Scaler loaded successfully.\n",
      "Scaler type: <class 'sklearn.preprocessing._data.StandardScaler'>\n",
      "Model loaded successfully.\n",
      "Model type: <class 'sklearn.linear_model._logistic.LogisticRegression'>\n"
     ]
    }
   ],
   "source": [
    "import pickle\n",
    "\n",
    "# Test loading the scaler\n",
    "try:\n",
    "    with open(\"battle_scaler.pkl\", 'rb') as f:\n",
    "        scaler = pickle.load(f)\n",
    "        print(\"Scaler loaded successfully.\")\n",
    "        print(f\"Scaler type: {type(scaler)}\")\n",
    "except Exception as e:\n",
    "    print(f\"Error loading scaler: {e}\")\n",
    "\n",
    "# Test loading the model\n",
    "try:\n",
    "    with open(\"battle_model.pkl\", 'rb') as f:\n",
    "        model = pickle.load(f)\n",
    "        print(\"Model loaded successfully.\")\n",
    "        print(f\"Model type: {type(model)}\")\n",
    "except Exception as e:\n",
    "    print(f\"Error loading model: {e}\")"
   ]
  },
  {
   "cell_type": "code",
   "execution_count": 1,
   "id": "d73205e3-8eae-426f-a10a-168c51779bf7",
   "metadata": {},
   "outputs": [
    {
     "name": "stdout",
     "output_type": "stream",
     "text": [
      "Pickle file size: 1.33 KB\n"
     ]
    }
   ],
   "source": [
    "import os\n",
    "\n",
    "# Specify the path to your pickle file\n",
    "file_path = 'battle_model.pkl'\n",
    "\n",
    "# Get the size of the file\n",
    "file_size = os.path.getsize(file_path)\n",
    "\n",
    "print(f\"Pickle file size: {file_size / 1024:.2f} KB\")  # Size in KB"
   ]
  },
  {
   "cell_type": "code",
   "execution_count": null,
   "id": "c5b69f0f-d866-415a-a9ac-d62edde61ca9",
   "metadata": {},
   "outputs": [],
   "source": []
  },
  {
   "cell_type": "code",
   "execution_count": null,
   "id": "78d6b5e5-f735-46ff-9f17-dd2b2822304b",
   "metadata": {},
   "outputs": [],
   "source": []
  },
  {
   "cell_type": "code",
   "execution_count": null,
   "id": "edf32cda-11fe-4ec8-9fd1-f5aa47698948",
   "metadata": {},
   "outputs": [],
   "source": []
  }
 ],
 "metadata": {
  "kernelspec": {
   "display_name": "Python 3 (ipykernel)",
   "language": "python",
   "name": "python3"
  },
  "language_info": {
   "codemirror_mode": {
    "name": "ipython",
    "version": 3
   },
   "file_extension": ".py",
   "mimetype": "text/x-python",
   "name": "python",
   "nbconvert_exporter": "python",
   "pygments_lexer": "ipython3",
   "version": "3.10.13"
  }
 },
 "nbformat": 4,
 "nbformat_minor": 5
}
